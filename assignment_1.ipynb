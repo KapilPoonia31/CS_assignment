{
 "cells": [
  {
   "cell_type": "code",
   "execution_count": 1,
   "metadata": {},
   "outputs": [
    {
     "name": "stdout",
     "output_type": "stream",
     "text": [
      "3\n",
      "odd\n"
     ]
    }
   ],
   "source": [
    "# quest-3-Given a number, print 1 if the no. is odd otherwise print 0\n",
    "#Note: try to do this code without the use of if and else statement.\n",
    "\n",
    "out=[\"even\",\"odd\"]\n",
    "n=int(input())\n",
    "print(out[n%2])"
   ]
  },
  {
   "cell_type": "code",
   "execution_count": 2,
   "metadata": {},
   "outputs": [
    {
     "name": "stdout",
     "output_type": "stream",
     "text": [
      "3 4 5 6 9 7\n",
      "6\n",
      "34\n",
      "3 9\n"
     ]
    }
   ],
   "source": [
    "# quest-2- write a program to create a user defined tuple with 'int' data type and perform the following\n",
    "#operations:\n",
    " #   find length of tuples\n",
    "  #  find the sum of all the elements of a tuple \n",
    "   # find the largest and smallest elements of a tuple \n",
    "    \n",
    "A=tuple(map(int,input().split()))\n",
    "print(len(A))\n",
    "print(sum(A))\n",
    "print(min(A),max(A))"
   ]
  },
  {
   "cell_type": "code",
   "execution_count": 10,
   "metadata": {},
   "outputs": [
    {
     "name": "stdout",
     "output_type": "stream",
     "text": [
      "3 5 6 4 7\n",
      "4 8 6 3 2\n"
     ]
    },
    {
     "ename": "TypeError",
     "evalue": "unsupported operand type(s) for +: 'map' and 'map'",
     "output_type": "error",
     "traceback": [
      "\u001b[1;31m---------------------------------------------------------------------------\u001b[0m",
      "\u001b[1;31mTypeError\u001b[0m                                 Traceback (most recent call last)",
      "\u001b[1;32m<ipython-input-10-99197e9503ac>\u001b[0m in \u001b[0;36m<module>\u001b[1;34m\u001b[0m\n\u001b[0;32m      4\u001b[0m \u001b[0mlistA\u001b[0m\u001b[1;33m=\u001b[0m\u001b[0mmap\u001b[0m\u001b[1;33m(\u001b[0m\u001b[0mint\u001b[0m\u001b[1;33m,\u001b[0m\u001b[0minput\u001b[0m\u001b[1;33m(\u001b[0m\u001b[1;33m)\u001b[0m\u001b[1;33m.\u001b[0m\u001b[0msplit\u001b[0m\u001b[1;33m(\u001b[0m\u001b[1;33m)\u001b[0m\u001b[1;33m)\u001b[0m\u001b[1;33m\u001b[0m\u001b[1;33m\u001b[0m\u001b[0m\n\u001b[0;32m      5\u001b[0m \u001b[0mlistB\u001b[0m\u001b[1;33m=\u001b[0m\u001b[0mmap\u001b[0m\u001b[1;33m(\u001b[0m\u001b[0mint\u001b[0m\u001b[1;33m,\u001b[0m\u001b[0minput\u001b[0m\u001b[1;33m(\u001b[0m\u001b[1;33m)\u001b[0m\u001b[1;33m.\u001b[0m\u001b[0msplit\u001b[0m\u001b[1;33m(\u001b[0m\u001b[1;33m)\u001b[0m\u001b[1;33m)\u001b[0m\u001b[1;33m\u001b[0m\u001b[1;33m\u001b[0m\u001b[0m\n\u001b[1;32m----> 6\u001b[1;33m \u001b[0mC\u001b[0m\u001b[1;33m=\u001b[0m\u001b[0mlist\u001b[0m\u001b[1;33m(\u001b[0m\u001b[0mset\u001b[0m\u001b[1;33m(\u001b[0m\u001b[0mA\u001b[0m\u001b[1;33m+\u001b[0m\u001b[0mB\u001b[0m\u001b[1;33m)\u001b[0m\u001b[1;33m)\u001b[0m\u001b[1;33m\u001b[0m\u001b[1;33m\u001b[0m\u001b[0m\n\u001b[0m\u001b[0;32m      7\u001b[0m \u001b[0mprint\u001b[0m\u001b[1;33m(\u001b[0m\u001b[0msorted\u001b[0m\u001b[1;33m(\u001b[0m\u001b[0mC\u001b[0m\u001b[1;33m)\u001b[0m\u001b[1;33m)\u001b[0m\u001b[1;33m\u001b[0m\u001b[1;33m\u001b[0m\u001b[0m\n",
      "\u001b[1;31mTypeError\u001b[0m: unsupported operand type(s) for +: 'map' and 'map'"
     ]
    }
   ],
   "source": [
    "# quest-5- Given two list of integers A and B(take user inputs).Write a program to merge them into a single\n",
    "#sorted list that contains every item from list A and B in ascending order.\n",
    "\n",
    "listA=map(int,input().split())\n",
    "listB=map(int,input().split())\n",
    "C=list(set(A+B))\n",
    "print(sorted(C))"
   ]
  },
  {
   "cell_type": "code",
   "execution_count": null,
   "metadata": {},
   "outputs": [],
   "source": [
    "#Question 6 : Create a user defined dictionary to store names and marks of 5 students. Sort the dictionary according to marks and return this sorted dictionary to the user.\n",
    "#Sample Input -> {'Berlin': 70, 'Oslo':0, 'Moscow':50, 'Nairobi':100}\n",
    "#Output -> {'Oslo':0, 'Moscow':50, 'Berlin': 70, 'Nairobi':100}\n",
    "\n",
    "\n",
    "dict1 = {'sandeep': 70, 'ajay':65, 'manan':80, 'anirudh':60, 'jaskaran':75}\n",
    "dict2 = sorted(dict1.items(), key=lambda kv: kv[1])\n",
    "print (dict2)"
   ]
  },
  {
   "cell_type": "code",
   "execution_count": 6,
   "metadata": {},
   "outputs": [
    {
     "name": "stdout",
     "output_type": "stream",
     "text": [
      "Input Number:input ith term:7\n",
      "64\n"
     ]
    }
   ],
   "source": [
    "# quest-4-Given a number and ith bit, change the ith bit of that number to 1.\n",
    "\n",
    "print(\"Input Number:\",end=\"\")\n",
    "n=int(int())\n",
    "print(\"input ith term:\",end=\"\")\n",
    "i=int(input())\n",
    "\n",
    "b='0'*i+bin(n)[2:]\n",
    "b='1'+b[(-i+1):]\n",
    "num=int(b,2)\n",
    "print(num)"
   ]
  },
  {
   "cell_type": "code",
   "execution_count": 8,
   "metadata": {},
   "outputs": [],
   "source": [
    "# quest-1-write a program to get a user input in the form of a list data type.Return a list by removing all\n",
    "#the duplicates.\n",
    "\n",
    "n=int(int())\n",
    "l=[]\n",
    "for i in range(0,n):\n",
    "    l.append(int(input()))\n",
    "    print(list(set()))"
   ]
  }
 ],
 "metadata": {
  "kernelspec": {
   "display_name": "Python 3",
   "language": "python",
   "name": "python3"
  },
  "language_info": {
   "codemirror_mode": {
    "name": "ipython",
    "version": 3
   },
   "file_extension": ".py",
   "mimetype": "text/x-python",
   "name": "python",
   "nbconvert_exporter": "python",
   "pygments_lexer": "ipython3",
   "version": "3.7.6"
  }
 },
 "nbformat": 4,
 "nbformat_minor": 4
}
