{
 "cells": [
  {
   "cell_type": "markdown",
   "metadata": {
    "colab_type": "text",
    "id": "WKmRVEQazQ3_"
   },
   "source": [
    "#Question 1 : Write a program to get a user input in the form of a list data type. Return a list by removing all the duplicates.\n",
    "\n",
    "#Sample Input -> [4, 4, 5, 6, 8, 4, 5]\n",
    "\n",
    "#Output -> [4, 5, 6, 8]\n",
    "\n",
    "#NOTE: Take user input using a for loop."
   ]
  },
  {
   "cell_type": "code",
   "execution_count": 35,
   "metadata": {
    "colab": {
     "base_uri": "https://localhost:8080/",
     "height": 53
    },
    "colab_type": "code",
    "id": "hXka_lrkd8XA",
    "outputId": "bd2c7ad6-3ef5-4693-ec4d-437e56573589"
   },
   "outputs": [
    {
     "name": "stdout",
     "output_type": "stream",
     "text": [
      "7\n",
      "[4, 5, 6, 8]\n"
     ]
    }
   ],
   "source": [
    "list1=[4, 4, 5, 6, 8, 4, 5]\n",
    "l=len(list1)\n",
    "print(l)\n",
    "list2=[]\n",
    "temp1=list1[0]\n",
    "for i in range (l-1) :\n",
    "  if (temp1==list1[i]):\n",
    "    i+1\n",
    "  else:\n",
    "        list2.append(temp1)\n",
    "        temp1 = list1[i]\n",
    "print(list2)"
   ]
  },
  {
   "cell_type": "markdown",
   "metadata": {
    "colab_type": "text",
    "id": "o4CMgodvzeaA"
   },
   "source": [
    "#Question 2 : Write a program to create a user defined tuple with ‘int’ data type and perform the following operations: \n",
    "\n",
    "#Find the length of tuples \n",
    "\n",
    "#Find the sum of all the elements of a tuple \n",
    "\n",
    "#Find the largest and smallest elements of a tuple"
   ]
  },
  {
   "cell_type": "code",
   "execution_count": 4,
   "metadata": {
    "colab": {
     "base_uri": "https://localhost:8080/",
     "height": 101
    },
    "colab_type": "code",
    "id": "mnGIca6rzcvE",
    "outputId": "8339c7da-e572-4ca0-df33-2ef87cd008f1"
   },
   "outputs": [
    {
     "name": "stdout",
     "output_type": "stream",
     "text": [
      "<class 'tuple'>\n",
      "4\n",
      "27\n",
      "smallest number of tuple: 4\n",
      "largest nummber of tuple: 10\n"
     ]
    }
   ],
   "source": [
    "t= (5,10,8,4)\n",
    "print(type(t))\n",
    "l=len(t)\n",
    "print(l)\n",
    "i=0\n",
    "s=0\n",
    "for i in range (l):\n",
    "  s+=t[i]\n",
    "print (s)\n",
    "print(\"smallest number of tuple:\",min(t))\n",
    "print(\"largest nummber of tuple:\",max(t))"
   ]
  },
  {
   "cell_type": "markdown",
   "metadata": {
    "colab_type": "text",
    "id": "581M1r4q_FHy"
   },
   "source": [
    "###Question 3 : Given a number and ith bit, change the ith bit of that number to 1.\n",
    "###Sample Input -> num = 13, i = 1\n",
    "###Output -> 15\n",
    "Explanation -> 13 can be represented as 1101 in binary. Now if we set the 1st bit of this binary represented value, we will get 1111 (i.e. 15) as output.\n"
   ]
  },
  {
   "cell_type": "code",
   "execution_count": 1,
   "metadata": {
    "colab": {
     "base_uri": "https://localhost:8080/",
     "height": 35
    },
    "colab_type": "code",
    "id": "6mz6nGKG_W-H",
    "outputId": "d51f7eac-309d-416d-8331-5ec5a38abcd0"
   },
   "outputs": [
    {
     "name": "stdout",
     "output_type": "stream",
     "text": [
      "23\n"
     ]
    }
   ],
   "source": [
    "a=7\n",
    "i=4\n",
    "ans = ((1 << i) | a)\n",
    "print (ans)"
   ]
  },
  {
   "cell_type": "markdown",
   "metadata": {
    "colab_type": "text",
    "id": "l9abJRcbFGDz"
   },
   "source": [
    "### Question 4 : Given a number, print 1 if the number is odd otherwise print 0.\n",
    "###NOTE: Try to do this program without the use of if else statement."
   ]
  },
  {
   "cell_type": "code",
   "execution_count": 3,
   "metadata": {
    "colab": {
     "base_uri": "https://localhost:8080/",
     "height": 90
    },
    "colab_type": "code",
    "id": "0D3HlwMQFRI9",
    "outputId": "2ec0fd42-3e9d-42db-dc20-aed9a107511a"
   },
   "outputs": [
    {
     "name": "stdout",
     "output_type": "stream",
     "text": [
      "Enter any any number:\n",
      "7\n",
      "The number is: 7\n",
      "The number is odd\n"
     ]
    }
   ],
   "source": [
    "print(\"Enter any any number:\")\n",
    "aa= int(input())\n",
    "print(\"The number is:\",aa)\n",
    "while(aa%2==0):\n",
    "  print(\"The number is even\")\n",
    "  break\n",
    "while(aa%2!=0):\n",
    "  print(\"The number is odd\")\n",
    "  break"
   ]
  },
  {
   "cell_type": "markdown",
   "metadata": {
    "colab_type": "text",
    "id": "kdZDL1w6GnZ-"
   },
   "source": [
    "###Question 5 : Given two lists of integers A and B. Write a program to merge them into a single sorted list that contains every item from list A and B in ascending order."
   ]
  },
  {
   "cell_type": "code",
   "execution_count": 2,
   "metadata": {
    "colab": {
     "base_uri": "https://localhost:8080/",
     "height": 34
    },
    "colab_type": "code",
    "id": "wGPCrDcAGwO3",
    "outputId": "65568e49-6ee4-4c73-baac-fcaf0b4badc9"
   },
   "outputs": [
    {
     "name": "stdout",
     "output_type": "stream",
     "text": [
      "[1, 2, 3, 4, 5, 7, 8, 9]\n"
     ]
    }
   ],
   "source": [
    "list3 = [7,5,8,4]\n",
    "list4 = [9,1,2,3]\n",
    "list5 = list3 + list4\n",
    "list5.sort()\n",
    "print(list5)"
   ]
  },
  {
   "cell_type": "markdown",
   "metadata": {
    "colab_type": "text",
    "id": "xvlPPgwsH_JD"
   },
   "source": [
    "###Question 6 : Create a user defined dictionary to store names and marks of 5 students. Sort the dictionary according to marks and return this sorted dictionary to the user.\n",
    "###Sample Input -> {'Berlin': 70, 'Oslo':0, 'Moscow':50, 'Nairobi':100}\n",
    "###Output -> {'Oslo':0, 'Moscow':50, 'Berlin': 70, 'Nairobi':100}\n"
   ]
  },
  {
   "cell_type": "code",
   "execution_count": 1,
   "metadata": {
    "colab": {
     "base_uri": "https://localhost:8080/",
     "height": 35
    },
    "colab_type": "code",
    "id": "Se0f05ygIymz",
    "outputId": "93e9ce59-de2a-43f4-911a-acab093dedfd"
   },
   "outputs": [
    {
     "name": "stdout",
     "output_type": "stream",
     "text": [
      "[('anirudh', 60), ('ajay', 65), ('sandeep', 70), ('jaskaran', 75), ('manan', 80)]\n"
     ]
    }
   ],
   "source": [
    "dict1 = {'sandeep': 70, 'ajay':65, 'manan':80, 'anirudh':60, 'jaskaran':75}\n",
    "dict2 = sorted(dict1.items(), key=lambda kv: kv[1])\n",
    "print (dict2)"
   ]
  },
  {
   "cell_type": "code",
   "execution_count": null,
   "metadata": {},
   "outputs": [],
   "source": []
  }
 ],
 "metadata": {
  "colab": {
   "collapsed_sections": [
    "WKmRVEQazQ3_",
    "o4CMgodvzeaA",
    "581M1r4q_FHy",
    "l9abJRcbFGDz",
    "kdZDL1w6GnZ-"
   ],
   "name": "ciphercschoolassignment1.ipynb",
   "provenance": []
  },
  "kernelspec": {
   "display_name": "Python 3",
   "language": "python",
   "name": "python3"
  },
  "language_info": {
   "codemirror_mode": {
    "name": "ipython",
    "version": 3
   },
   "file_extension": ".py",
   "mimetype": "text/x-python",
   "name": "python",
   "nbconvert_exporter": "python",
   "pygments_lexer": "ipython3",
   "version": "3.7.6"
  }
 },
 "nbformat": 4,
 "nbformat_minor": 1
}
